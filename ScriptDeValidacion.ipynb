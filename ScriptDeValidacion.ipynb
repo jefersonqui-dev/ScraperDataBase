{
 "cells": [
  {
   "cell_type": "code",
   "execution_count": 4,
   "metadata": {},
   "outputs": [
    {
     "name": "stdout",
     "output_type": "stream",
     "text": [
      "Archivo guardado en VALIDADO_Actualización Censo Resguardo Indigena de Guachucal - 2025 (1).xlsx con formato de color aplicado en filas con error.\n"
     ]
    }
   ],
   "source": [
    "import pandas as pd\n",
    "from openpyxl import load_workbook\n",
    "from openpyxl.styles import PatternFill\n",
    "import os\n",
    "\n",
    "# Cargar archivo\n",
    "file_path = \"Actualización Censo Resguardo Indigena de Guachucal - 2025 (1).xlsx\"\n",
    "df = pd.read_excel(file_path, sheet_name=0, skiprows=6)\n",
    "\n",
    "# Limpiar nombres de columnas\n",
    "df.columns = df.columns.str.strip()\n",
    "\n",
    "# Eliminar filas vacías\n",
    "df = df.dropna(subset=['FAMILIA', 'INTEGRANTES'])\n",
    "\n",
    "# Convertir a enteros\n",
    "df['FAMILIA'] = df['FAMILIA'].astype(int)   \n",
    "df['INTEGRANTES'] = df['INTEGRANTES'].astype(int)\n",
    "\n",
    "# Reasignar códigos de familia\n",
    "nuevo_codigo = []\n",
    "codigo_actual = 0  # Ahora empieza en 0 para que el primer grupo sea 1\n",
    "ultimo_codigo = None\n",
    "\n",
    "for _, row in df.iterrows():\n",
    "    if row['FAMILIA'] != ultimo_codigo:\n",
    "        codigo_actual += 1  # Aquí se incrementa solo cuando cambia la familia\n",
    "        ultimo_codigo = row['FAMILIA']\n",
    "\n",
    "    nuevo_codigo.append(codigo_actual)\n",
    "\n",
    "df['Nuevo_Codigo_Familia'] = nuevo_codigo\n",
    "\n",
    "# Verificar que el número de integrantes sea correcto\n",
    "df['Validacion'] = df.groupby('Nuevo_Codigo_Familia')['Nuevo_Codigo_Familia'].transform('count')\n",
    "df['Error'] = df['Validacion'] != df['INTEGRANTES']\n",
    "df['Error'] = df['Error'].replace({True: 'ERROR - Revisar', False: ''})\n",
    "\n",
    "# Definir nombre del archivo de salida\n",
    "nombre_archivo = os.path.splitext(file_path)[0]\n",
    "output_file = f\"VALIDADO_{nombre_archivo}.xlsx\"\n",
    "\n",
    "# Guardar archivo con formato en Excel\n",
    "with pd.ExcelWriter(output_file, engine=\"openpyxl\") as writer:\n",
    "    df.to_excel(writer, sheet_name=\"Censo Ordenado\", index=False)\n",
    "    workbook = writer.book\n",
    "    worksheet = writer.sheets[\"Censo Ordenado\"]\n",
    "\n",
    "# Aplicar color a toda la fila donde haya error\n",
    "workbook = load_workbook(output_file)\n",
    "worksheet = workbook[\"Censo Ordenado\"]\n",
    "\n",
    "fill = PatternFill(start_color=\"FF9999\", end_color=\"FF9999\", fill_type=\"solid\")\n",
    "\n",
    "for row_idx, error_value in enumerate(df['Error'], start=2):  # Saltamos el encabezado\n",
    "    if error_value == \"ERROR - Revisar\":\n",
    "        for col_idx in range(1, len(df.columns) + 1):  # Recorrer todas las columnas\n",
    "            worksheet.cell(row=row_idx, column=col_idx).fill = fill\n",
    "\n",
    "# Guardar cambios en el archivo Excel\n",
    "workbook.save(output_file)\n",
    "print(f\"Archivo guardado en {output_file} con formato de color aplicado en filas con error.\")\n"
   ]
  }
 ],
 "metadata": {
  "kernelspec": {
   "display_name": "envml",
   "language": "python",
   "name": "python3"
  },
  "language_info": {
   "codemirror_mode": {
    "name": "ipython",
    "version": 3
   },
   "file_extension": ".py",
   "mimetype": "text/x-python",
   "name": "python",
   "nbconvert_exporter": "python",
   "pygments_lexer": "ipython3",
   "version": "3.11.0"
  }
 },
 "nbformat": 4,
 "nbformat_minor": 2
}
